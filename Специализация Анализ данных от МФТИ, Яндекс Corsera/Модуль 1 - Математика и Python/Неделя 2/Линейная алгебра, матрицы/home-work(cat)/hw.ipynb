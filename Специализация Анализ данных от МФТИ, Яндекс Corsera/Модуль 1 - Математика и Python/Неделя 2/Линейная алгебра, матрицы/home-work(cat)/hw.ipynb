{
 "cells": [
  {
   "cell_type": "code",
   "execution_count": 1,
   "metadata": {},
   "outputs": [
    {
     "name": "stdout",
     "output_type": "stream",
     "text": [
      "0     0.0\n",
      "1     0.9527544408738466\n",
      "2     0.8644738145642124\n",
      "3     0.8951715163278082\n",
      "4     0.7770887149698589\n",
      "5     0.9402385695332803\n",
      "6     0.7327387580875756\n",
      "7     0.9258750683338899\n",
      "8     0.8842724875284311\n",
      "9     0.9055088817476932\n",
      "10     0.8328165362273942\n",
      "11     0.8804771390665607\n",
      "12     0.8396432548525454\n",
      "13     0.8703592552895671\n",
      "14     0.8740118423302576\n",
      "15     0.9442721787424647\n",
      "16     0.8406361854220809\n",
      "17     0.956644501523794\n",
      "18     0.9442721787424647\n",
      "19     0.8885443574849294\n",
      "20     0.8427572744917122\n",
      "21     0.8250364469440588\n"
     ]
    }
   ],
   "source": [
    "import re\n",
    "import numpy as np\n",
    "from collections import Counter\n",
    "from scipy.spatial import distance\n",
    "text = open('sentences.txt','r')\n",
    "massiveOfLines = []\n",
    "massiveOfSplitedLines = []\n",
    "for line in text.read().splitlines():\n",
    "    massiveOfLines.append(line.lower())\n",
    "#print(massiveOfLines)\n",
    "for line in massiveOfLines:\n",
    "    SplitedLine = re.split('[^a-z]', line)\n",
    "    SplitedLine = [x for x in SplitedLine if x]\n",
    "    massiveOfSplitedLines.append(SplitedLine)\n",
    "#print(massiveOfSplitedfLines)\n",
    "flat_list = [item for sublist in massiveOfSplitedLines for item in sublist]\n",
    "dict = Counter(flat_list)\n",
    "my_dict = {}\n",
    "listOfUniqWords = list(set(flat_list))\n",
    "i = 0\n",
    "for word in listOfUniqWords:\n",
    "    my_dict[i] = listOfUniqWords[i]\n",
    "    i += 1\n",
    "    \n",
    "#print(len(a))\n",
    "#print(len(my_dict.keys()))\n",
    "#print(my_dict)\n",
    "\n",
    "main_array = np.zeros((len(massiveOfLines), len(my_dict.keys())))\n",
    "i = 0\n",
    "j = 0\n",
    "\n",
    "#print(main_array)\n",
    "while i <  len(massiveOfSplitedLines):\n",
    "    while j < len(my_dict.keys()):\n",
    "        main_array[i,j] = massiveOfSplitedLines[i].count(my_dict[j])\n",
    "        #print( main_array[i,j])\n",
    "        j += 1\n",
    "    j = 0\n",
    "    i += 1\n",
    "i = 0\n",
    "for line in main_array:\n",
    "    print(i,'   ',distance.cosine(main_array[0], line))\n",
    "    i += 1"
   ]
  },
  {
   "cell_type": "code",
   "execution_count": null,
   "metadata": {},
   "outputs": [],
   "source": []
  },
  {
   "cell_type": "code",
   "execution_count": 158,
   "metadata": {},
   "outputs": [
    {
     "name": "stdout",
     "output_type": "stream",
     "text": [
      "{0: 'disk', 1: 'adjacent', 2: 'from', 3: 'place', 4: 'unix', 5: 'major', 6: 'not', 7: 'genes', 8: 'switch', 9: 'lb', 10: 'streams', 11: 'stdin', 12: 'mice', 13: 'patch', 14: 'tamed', 15: 'successor', 16: 'just', 17: 'sequence', 18: 'redirection', 19: 'type', 20: 'instead', 21: 'also', 22: 'where', 23: 'left', 24: 'factory', 25: 'deliberately', 26: 't', 27: 'safari', 28: 'separate', 29: 'information', 30: 'command', 31: 'if', 32: 'ancestor', 33: 'mountain', 34: 'standard', 35: 'you', 36: 'now', 37: 'july', 38: 'ears', 39: 'editions', 40: 'three', 41: 'members', 42: 'longer', 43: 'clear', 44: 'yosemite', 45: 'second', 46: 'be', 47: 'learned', 48: 'its', 49: 'drive', 50: 'closest', 51: 'os', 52: 'wrong', 53: 'kg', 54: 'delete', 55: 'and', 56: 'on', 57: 'time', 58: 'artificial', 59: 'concatenate', 60: 'too', 61: 'were', 62: 'interactive', 63: 'any', 64: 'content', 65: 'stdout', 66: 'high', 67: 'typically', 68: 'chromosomes', 69: 'using', 70: 'lion', 71: 'over', 72: 'genus', 73: 'files', 74: 'allows', 75: 'every', 76: 'rather', 77: 'download', 78: 'to', 79: 'concern', 80: 'size', 81: 'without', 82: 'read', 83: 'frequency', 84: 'domesticated', 85: 'roughly', 86: 'no', 87: 'need', 88: 'versions', 89: 'symbol', 90: 'entirely', 91: 'bytes', 92: 'catenates', 93: 'often', 94: 'legibility', 95: 'year', 96: 'lines', 97: 'through', 98: 'installs', 99: 'both', 100: 'has', 101: 'keyboards', 102: 'releases', 103: 'by', 104: 'useful', 105: 'with', 106: 'count', 107: 'firmware', 108: 'update', 109: 'can', 110: 'based', 111: 'for', 112: 'selection', 113: 'later', 114: 'dogs', 115: 'the', 116: 'hear', 117: 'right', 118: 'installation', 119: 'may', 120: 'needing', 121: 'are', 122: 'releasing', 123: 'mavericks', 124: 'their', 125: 'marks', 126: 'external', 127: 'simply', 128: 'default', 129: 'was', 130: 'those', 131: 'other', 132: 'human', 133: 'between', 134: 'however', 135: 'computers', 136: 'recent', 137: 'mac', 138: 'in', 139: 'leopard', 140: 'non', 141: 'a', 142: 'such', 143: 'one', 144: 'mid', 145: 'which', 146: 'two', 147: 'permanently', 148: 'sounds', 149: 'features', 150: 'will', 151: 'changes', 152: 'binary', 153: 'single', 154: 'during', 155: 'most', 156: 'osx', 157: 'output', 158: 'cat', 159: 'faint', 160: 'since', 161: 'domestication', 162: 'new', 163: 'contains', 164: 's', 165: 'purchase', 166: 'available', 167: 'installed', 168: 'common', 169: 'intel', 170: 'fifth', 171: 'some', 172: 'used', 173: 'more', 174: 'vermin', 175: 'organisms', 176: 'it', 177: 'connected', 178: 'use', 179: 'is', 180: 'error', 181: 'symbols', 182: 'flow', 183: 'process', 184: 'displays', 185: 'weighing', 186: 'moved', 187: 'offered', 188: 'or', 189: 'people', 190: 'wild', 191: 'terms', 192: 'enhancements', 193: 'when', 194: 'according', 195: 'receives', 196: 'file', 197: 'than', 198: 'world', 199: 'processors', 200: 'undergone', 201: 'allow', 202: 'cats', 203: 'animals', 204: 'predators', 205: 'piped', 206: 'an', 207: 'received', 208: 'app', 209: 'basic', 210: 'diploid', 211: 'online', 212: 'of', 213: 'october', 214: 'starting', 215: 'part', 216: 'developed', 217: 'named', 218: 'so', 219: 'incremental', 220: 'x', 221: 'off', 222: 'they', 223: 'safer', 224: 'create', 225: 'that', 226: 'similar', 227: 'made', 228: 'released', 229: 'apple', 230: 'small', 231: 'unnecessary', 232: 'tiger', 233: 'have', 234: 'predecessor', 235: 'redirected', 236: 'linux', 237: 'store', 238: 'pipes', 239: 'arguments', 240: 'run', 241: 'felis', 242: 'community', 243: 'comparison', 244: 'as', 245: 'running', 246: 'won', 247: 'domestic', 248: 'commands', 249: 'upgrade', 250: 'version', 251: 'started', 252: 'release', 253: 'possess'}\n"
     ]
    }
   ],
   "source": [
    "print(my_dict)"
   ]
  },
  {
   "cell_type": "code",
   "execution_count": 99,
   "metadata": {},
   "outputs": [],
   "source": [
    "?np"
   ]
  },
  {
   "cell_type": "code",
   "execution_count": 4,
   "metadata": {},
   "outputs": [
    {
     "name": "stdout",
     "output_type": "stream",
     "text": [
      "[[0. 0. 0. ... 0. 0. 0.]\n",
      " [0. 0. 0. ... 0. 0. 0.]\n",
      " [0. 0. 0. ... 0. 0. 0.]\n",
      " ...\n",
      " [0. 0. 0. ... 0. 0. 0.]\n",
      " [0. 0. 0. ... 0. 0. 0.]\n",
      " [0. 0. 0. ... 0. 0. 0.]]\n"
     ]
    }
   ],
   "source": [
    "print(main_array)"
   ]
  },
  {
   "cell_type": "code",
   "execution_count": null,
   "metadata": {},
   "outputs": [],
   "source": []
  }
 ],
 "metadata": {
  "kernelspec": {
   "display_name": "Python 3",
   "language": "python",
   "name": "python3"
  },
  "language_info": {
   "codemirror_mode": {
    "name": "ipython",
    "version": 3
   },
   "file_extension": ".py",
   "mimetype": "text/x-python",
   "name": "python",
   "nbconvert_exporter": "python",
   "pygments_lexer": "ipython3",
   "version": "3.8.5"
  }
 },
 "nbformat": 4,
 "nbformat_minor": 4
}
