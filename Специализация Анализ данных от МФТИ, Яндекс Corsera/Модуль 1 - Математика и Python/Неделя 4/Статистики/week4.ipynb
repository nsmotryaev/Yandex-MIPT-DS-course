{
 "cells": [
  {
   "cell_type": "markdown",
   "metadata": {},
   "source": [
    "# Задание, оцениваемое сокурсниками: Центральная предельная теорема своими руками"
   ]
  },
  {
   "cell_type": "markdown",
   "metadata": {},
   "source": [
    "## Формулировка задания"
   ]
  },
  {
   "cell_type": "markdown",
   "metadata": {},
   "source": [
    "В этом задании вам предстоит проверить работу центральной предельной теоремы, а также поработать с генерацией случайных чисел и построением графиков в Питоне. \n",
    "\n",
    "Выберите ваше любимое непрерывное распределение (чем меньше оно будет похоже на нормальное, тем интереснее; попробуйте выбрать какое-нибудь распределение из тех, что мы не обсуждали в курсе). Сгенерируйте из него выборку объёма 1000, постройте гистограмму выборки и нарисуйте поверх неё теоретическую плотность распределения вашей случайной величины (чтобы величины были в одном масштабе, не забудьте выставить у гистограммы значение параметра normed=True).\n",
    "\n",
    "Ваша задача — оценить распределение выборочного среднего вашей случайной величины при разных объёмах выборок. Для этого при трёх и более значениях n (например, 5, 10, 50) сгенерируйте 1000 выборок объёма n и постройте гистограммы распределений их выборочных средних. Используя информацию о среднем и дисперсии исходного распределения (её можно без труда найти в википедии), посчитайте значения параметров нормальных распределений, которыми, согласно центральной предельной теореме, приближается распределение выборочных средних. Обратите внимание: для подсчёта значений этих параметров нужно использовать именно теоретические среднее и дисперсию вашей случайной величины, а не их выборочные оценки. Поверх каждой гистограммы нарисуйте плотность соответствующего нормального распределения (будьте внимательны с параметрами функции, она принимает на вход не дисперсию, а стандартное отклонение).\n",
    "\n",
    "Опишите разницу между полученными распределениями при различных значениях n. Как меняется точность аппроксимации распределения выборочных средних нормальным с ростом n?"
   ]
  },
  {
   "cell_type": "markdown",
   "metadata": {},
   "source": [
    "## Решение"
   ]
  },
  {
   "cell_type": "code",
   "execution_count": 93,
   "metadata": {},
   "outputs": [],
   "source": [
    "import pandas as pd\n",
    "import numpy as np\n",
    "import matplotlib.pyplot as plt\n",
    "import scipy.stats as sts\n",
    "%matplotlib inline"
   ]
  },
  {
   "cell_type": "markdown",
   "metadata": {},
   "source": [
    "Строим гистограмму выборки и рисуем поверх неё теоретическую плотность распределения случайной величины. Распределение хи-квадрат 𝜒2𝑘 , с числом степеней свободы 𝑘 = 3."
   ]
  },
  {
   "cell_type": "code",
   "execution_count": 94,
   "metadata": {},
   "outputs": [
    {
     "data": {
      "text/plain": [
       "(array([0.22035951, 0.16553836, 0.08599396, 0.0327852 , 0.0198861 ,\n",
       "        0.00806193, 0.00268731, 0.00161239, 0.        , 0.00053746]),\n",
       " array([ 0.02122274,  1.88181862,  3.74241451,  5.6030104 ,  7.46360629,\n",
       "         9.32420217, 11.18479806, 13.04539395, 14.90598984, 16.76658572,\n",
       "        18.62718161]),\n",
       " <a list of 10 Patch objects>)"
      ]
     },
     "execution_count": 94,
     "metadata": {},
     "output_type": "execute_result"
    },
    {
     "data": {
      "image/png": "[encoded data removed]",
      "text/plain": [
       "<Figure size 432x288 with 1 Axes>"
      ]
     },
     "metadata": {
      "needs_background": "light"
     },
     "output_type": "display_data"
    }
   ],
   "source": [
    "count = 1000 #значение размера выборки объёма 1000 и дальше количество выборок объёма n\n",
    "x = np.linspace(0,30,count) #генерируем выборку объема 1000 чисел от 0 до 30\n",
    "k = 3 #степень свободы распределения хи-квадрат\n",
    "rv = sts.chi2(k) #задаем распределение хи-квадрат\n",
    "pdf = rv.pdf(x) #плотность распределения функции хи-квадрат\n",
    "plt.plot(x, pdf, label=\"$k=%s$\" % k) #рисуем плотность распределения функции хи-квадрат\n",
    "plt.legend()\n",
    "plt.title(\"PDF ($\\chi^2_k$)\")\n",
    "plt.ylabel('$f(x)$')\n",
    "plt.xlabel('$x$')\n",
    "plt.hist(rv.rvs(count), density=True, alpha=0.3) #рисуем гистограмму 1000 случайных значений функции хи-квадрат"
   ]
  },
  {
   "cell_type": "markdown",
   "metadata": {},
   "source": [
    "Считаем и записываем распределение выборочного среднего случайной величины для объёма выборки 5"
   ]
  },
  {
   "cell_type": "code",
   "execution_count": 97,
   "metadata": {},
   "outputs": [],
   "source": [
    "n = 5 #задаем объем выборки\n",
    "n5 = [] #пустой массив для средних значений\n",
    "for i in range(count): #цикл для генерации выборок, расчета их средних и записи средних в массив\n",
    "    sample5 = rv.rvs(size=n) #генерация выборки\n",
    "    mean_n5 = sample5.mean() #расчет среднего выборки и записи средних в массив\n",
    "    n5.append(mean_n5) #добавление среднего в массив"
   ]
  },
  {
   "cell_type": "markdown",
   "metadata": {},
   "source": [
    "Генерируем выборку объема 1000.\n",
    "Задаем матожидание равным k и дисперсию - k*2. Значени указаны в следующей статье\n",
    "https://ru.wikipedia.org/wiki/%D0%A0%D0%B0%D1%81%D0%BF%D1%80%D0%B5%D0%B4%D0%B5%D0%BB%D0%B5%D0%BD%D0%B8%D0%B5_%D1%85%D0%B8-%D0%BA%D0%B2%D0%B0%D0%B4%D1%80%D0%B0%D1%82"
   ]
  },
  {
   "cell_type": "code",
   "execution_count": 98,
   "metadata": {
    "scrolled": true
   },
   "outputs": [],
   "source": [
    "x_norm = np.linspace(-5,12,count) #генерируем выборку объема 1000 чисел от -5 до 12. Значения -5 и 12,чтобы график смотрелся лучше\n",
    "m_hi2 = k #матожидание распределения хи-квадрат из википедии\n",
    "d_hi2 = k * 2 #дисперсия распределения хи-квадрат из википедии\n",
    "std_hi2 = np.sqrt(d_hi2)"
   ]
  },
  {
   "cell_type": "markdown",
   "metadata": {},
   "source": [
    "Задаем нормальное распределение с матожиданием и дисперсией распределения хи-квадрат"
   ]
  },
  {
   "cell_type": "code",
   "execution_count": 99,
   "metadata": {},
   "outputs": [],
   "source": [
    "norm_rv = sts.norm(m_hi2, std_hi2/n) #задаем нормальное распределение с матожиданием и дисперсией распределения хи-квадрат\n",
    "pdf = norm_rv.pdf(x_norm) #плотность нормального распределения"
   ]
  },
  {
   "cell_type": "markdown",
   "metadata": {},
   "source": [
    "Рисуем гистограмму распределение выборочного среднего случайной величины для объёма выборки n и сверху гистограммы рисуем плотность нормального распределения"
   ]
  },
  {
   "cell_type": "code",
   "execution_count": 100,
   "metadata": {},
   "outputs": [
    {
     "data": {
      "text/plain": [
       "(array([0.08898127, 0.27277865, 0.4040625 , 0.31508122, 0.19109093,\n",
       "        0.10794449, 0.06126579, 0.00875226, 0.00583484, 0.00291742]),\n",
       " array([0.82264493, 1.50818244, 2.19371996, 2.87925748, 3.56479499,\n",
       "        4.25033251, 4.93587003, 5.62140754, 6.30694506, 6.99248258,\n",
       "        7.67802009]),\n",
       " <a list of 10 Patch objects>)"
      ]
     },
     "execution_count": 100,
     "metadata": {},
     "output_type": "execute_result"
    },
    {
     "data": {
      "image/png": "[encoded data removed]",
      "text/plain": [
       "<Figure size 432x288 with 1 Axes>"
      ]
     },
     "metadata": {
      "needs_background": "light"
     },
     "output_type": "display_data"
    }
   ],
   "source": [
    "plt.plot(x_norm, pdf) #рисуем плотность нормального распределения \n",
    "plt.ylabel('$f(x)$')\n",
    "plt.xlabel('$x$')\n",
    "plt.hist(n5, alpha=0.3, density=True) #рисуем гистограмму распределения выборочного среднего случайной величины для объёма выборки 5 (средних из массива)"
   ]
  },
  {
   "cell_type": "markdown",
   "metadata": {},
   "source": [
    "Считаем и записываем распределение выборочного среднего случайной величины для объёма выборки 10"
   ]
  },
  {
   "cell_type": "code",
   "execution_count": 101,
   "metadata": {},
   "outputs": [],
   "source": [
    "n = 10 #задаем объем выборки\n",
    "n10 = [] #пустой массив для средних значений\n",
    "for i in range(count): #цикл для генерации выборок, расчета их средних и записи средних в массив\n",
    "    sample10 = rv.rvs(size=n) #генерация выборки объема n\n",
    "    mean_n10 = sample10.mean() #расчет среднего выборки и записи средних в массив\n",
    "    n10.append(mean_n10) #добавление среднего в массив"
   ]
  },
  {
   "cell_type": "markdown",
   "metadata": {},
   "source": [
    "Рисуем гистограмму распределение выборочного среднего случайной величины для объёма выборки 10 и сверху гистограммы рисуем плотность нормального распределения"
   ]
  },
  {
   "cell_type": "code",
   "execution_count": 102,
   "metadata": {},
   "outputs": [
    {
     "data": {
      "text/plain": [
       "(array([0.03474081, 0.2043577 , 0.4087154 , 0.54767863, 0.40667182,\n",
       "        0.26362143, 0.10013527, 0.04087154, 0.02452292, 0.01226146]),\n",
       " array([1.14691892, 1.63625698, 2.12559504, 2.61493311, 3.10427117,\n",
       "        3.59360923, 4.08294729, 4.57228536, 5.06162342, 5.55096148,\n",
       "        6.04029954]),\n",
       " <a list of 10 Patch objects>)"
      ]
     },
     "execution_count": 102,
     "metadata": {},
     "output_type": "execute_result"
    },
    {
     "data": {
      "image/png": "[encoded data removed]",
      "text/plain": [
       "<Figure size 432x288 with 1 Axes>"
      ]
     },
     "metadata": {
      "needs_background": "light"
     },
     "output_type": "display_data"
    }
   ],
   "source": [
    "plt.plot(x_norm, pdf) #рисуем плотность нормального распределения \n",
    "plt.ylabel('$f(x)$')\n",
    "plt.xlabel('$x$')\n",
    "plt.hist(n10, alpha=0.3, density=True) #рисуем гистограмму распределения выборочного среднего случайной величины для объёма выборки 10 (средних из массива)"
   ]
  },
  {
   "cell_type": "markdown",
   "metadata": {},
   "source": [
    "Считаем и записываем распределение выборочного среднего случайной величины для объёма выборки 25"
   ]
  },
  {
   "cell_type": "code",
   "execution_count": 103,
   "metadata": {},
   "outputs": [],
   "source": [
    "n = 25 #задаем объем выборки\n",
    "n25 = [] #пустой массив для средних значений\n",
    "for i in range(count): #цикл для генерации выборок, расчета их средних и записи средних в массив\n",
    "    sample25 = rv.rvs(size=n) #генерация выборки объема n\n",
    "    mean_n25 = sample25.mean() #расчет среднего выборки и записи средних в массив\n",
    "    n25.append(mean_n25) #добавление среднего в массив"
   ]
  },
  {
   "cell_type": "markdown",
   "metadata": {},
   "source": [
    "Рисуем гистограмму распределение выборочного среднего случайной величины для объёма выборки 50 и сверху гистограммы рисуем плотность нормального распределения"
   ]
  },
  {
   "cell_type": "code",
   "execution_count": 104,
   "metadata": {},
   "outputs": [
    {
     "data": {
      "text/plain": [
       "(array([0.02508797, 0.13798383, 0.45471943, 0.82790296, 0.69305513,\n",
       "        0.56761529, 0.29164763, 0.08467189, 0.03449596, 0.01881598]),\n",
       " array([1.61118353, 1.93006148, 2.24893943, 2.56781738, 2.88669533,\n",
       "        3.20557328, 3.52445123, 3.84332918, 4.16220713, 4.48108508,\n",
       "        4.79996303]),\n",
       " <a list of 10 Patch objects>)"
      ]
     },
     "execution_count": 104,
     "metadata": {},
     "output_type": "execute_result"
    },
    {
     "data": {
      "image/png": "[encoded data removed]",
      "text/plain": [
       "<Figure size 432x288 with 1 Axes>"
      ]
     },
     "metadata": {
      "needs_background": "light"
     },
     "output_type": "display_data"
    }
   ],
   "source": [
    "plt.plot(x_norm, pdf) #рисуем плотность нормального распределения \n",
    "plt.ylabel('$f(x)$')\n",
    "plt.xlabel('$x$')\n",
    "plt.hist(n25, alpha=0.3, density=True) #рисуем гистограмму распределения выборочного среднего случайной величины для объёма выборки 25 (средних из массива)"
   ]
  },
  {
   "cell_type": "markdown",
   "metadata": {},
   "source": [
    "### Вопрос\n",
    "Опишите разницу между полученными распределениями при различных значениях n. Как меняется точность аппроксимации распределения выборочных средних нормальным с ростом n"
   ]
  },
  {
   "cell_type": "markdown",
   "metadata": {},
   "source": [
    "### Ответ"
   ]
  },
  {
   "cell_type": "markdown",
   "metadata": {},
   "source": [
    "Точность аппроксимации распределения выборочных средних нормальным с ростом n улучшается. Гистограмма приближается к нормальному распределению.Это хорошо видно при объёме выборки 25."
   ]
  }
 ],
 "metadata": {
  "kernelspec": {
   "display_name": "Python 3",
   "language": "python",
   "name": "python3"
  },
  "language_info": {
   "codemirror_mode": {
    "name": "ipython",
    "version": 3
   },
   "file_extension": ".py",
   "mimetype": "text/x-python",
   "name": "python",
   "nbconvert_exporter": "python",
   "pygments_lexer": "ipython3",
   "version": "3.7.10"
  }
 },
 "nbformat": 4,
 "nbformat_minor": 4
}
